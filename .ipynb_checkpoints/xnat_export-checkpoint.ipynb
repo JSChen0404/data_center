{
 "cells": [
  {
   "cell_type": "code",
   "execution_count": 1,
   "metadata": {
    "scrolled": true
   },
   "outputs": [],
   "source": [
    "import sys\n",
    "import os\n",
    "xnat_dir = '/home/anpo/anaconda3/lib/python3.8/site-packages/xnat'\n",
    "sys.path.append('/home/anpo/anaconda3/lib/python3.8')\n",
    "sys.path.append('/home/anpo/anaconda3/lib/python3.8/site-packages')\n",
    "sys.path.append(xnat_dir)\n",
    "\n",
    "# make sure you add the dir for xnat_donwload module\n",
    "sys.path.append('/home/anpo/Desktop/pyscript/xnat') \n",
    "\n",
    "import load_config\n",
    "import xnat_download"
   ]
  },
  {
   "cell_type": "code",
   "execution_count": 3,
   "metadata": {
    "scrolled": false
   },
   "outputs": [
    {
     "name": "stdout",
     "output_type": "stream",
     "text": [
      "xnatQ\n",
      "cgmh1028\n"
     ]
    },
    {
     "data": {
      "text/plain": [
       "<xnat.session.XNATSession at 0x7f14eb4f5fa0>"
      ]
     },
     "execution_count": 3,
     "metadata": {},
     "output_type": "execute_result"
    }
   ],
   "source": [
    "download_root = '/home/anpo/Desktop/DataForDBtest' # your data deposit location\n",
    "\n",
    "project_name = \"test_pj2\" # your project name\n",
    "\n",
    "session, proj_path = load_config.load(project_name)\n",
    "\n",
    "dicom_query = {};\n",
    "dicom_query['BodyPartExamined'] = 'CHEST'\n",
    "#dicom_query['PatientAge'] = '057Y'\n",
    "dicom_query['Modality'] = 'CT'\n",
    "#dicom_query['StudyDescription'] = 'Chest A-P View'\n",
    "dicom_query['StudyDescription'] = 'test_pj4'\n",
    "\n",
    "# # return the file paths and download the data\n",
    "files_paths = xnat_download.query_dicom(project_name, session, proj_path, dicom_query, download_root)\n"
   ]
  },
  {
   "cell_type": "code",
   "execution_count": 6,
   "metadata": {},
   "outputs": [
    {
     "data": {
      "text/plain": [
       "'http://10.30.223.96/xnat-docker-compose/xnat-data/archive/test_pj2'"
      ]
     },
     "execution_count": 6,
     "metadata": {},
     "output_type": "execute_result"
    }
   ],
   "source": [
    "proj_path"
   ]
  },
  {
   "cell_type": "code",
   "execution_count": null,
   "metadata": {},
   "outputs": [],
   "source": []
  }
 ],
 "metadata": {
  "kernelspec": {
   "display_name": "Python 3",
   "language": "python",
   "name": "python3"
  },
  "language_info": {
   "codemirror_mode": {
    "name": "ipython",
    "version": 3
   },
   "file_extension": ".py",
   "mimetype": "text/x-python",
   "name": "python",
   "nbconvert_exporter": "python",
   "pygments_lexer": "ipython3",
   "version": "3.8.5"
  }
 },
 "nbformat": 4,
 "nbformat_minor": 4
}

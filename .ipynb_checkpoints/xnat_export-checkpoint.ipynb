{
 "cells": [
  {
   "cell_type": "code",
   "execution_count": 4,
   "metadata": {
    "scrolled": true
   },
   "outputs": [
    {
     "name": "stdout",
     "output_type": "stream",
     "text": [
      "['/home/anpo/Desktop/pyscript/xnat', '/home/anpo/anaconda3/envs/tf-gpu/lib/python38.zip', '/home/anpo/anaconda3/envs/tf-gpu/lib/python3.8', '/home/anpo/anaconda3/envs/tf-gpu/lib/python3.8/lib-dynload', '', '/home/anpo/anaconda3/envs/tf-gpu/lib/python3.8/site-packages', '/home/anpo/anaconda3/envs/tf-gpu/lib/python3.8/site-packages/IPython/extensions', '/home/anpo/.ipython', '/home/anpo/anaconda3/lib/python3.8', '/home/anpo/anaconda3/lib/python3.8/site-packages', '/home/anpo/anaconda3/lib/python3.8/site-packages/xnat', '/home/anpo/Desktop/pyscript', '/home/anpo/Desktop/pyscript', '/home/anpo/anaconda3/lib/python3.8/site-packages/azureml/_project/vendor', '/home/anpo/anaconda3/lib/python3.8', '/home/anpo/anaconda3/lib/python3.8/site-packages', '/home/anpo/anaconda3/lib/python3.8/site-packages/xnat']\n"
     ]
    }
   ],
   "source": [
    "import sys\n",
    "xnat_dir = '/home/anpo/anaconda3/lib/python3.8/site-packages/xnat'\n",
    "sys.path.append('/home/anpo/anaconda3/lib/python3.8')\n",
    "sys.path.append('/home/anpo/anaconda3/lib/python3.8/site-packages')\n",
    "sys.path.append(xnat_dir)\n",
    "print(sys.path)\n",
    "# make sure you add the dir for xnat_donwload module\n",
    "sys.path.append('/home/anpo/Desktop/pyscript/xnat') \n",
    "import xnat_download \n",
    "import os"
   ]
  },
  {
   "cell_type": "code",
   "execution_count": 5,
   "metadata": {
    "scrolled": true
   },
   "outputs": [
    {
     "name": "stdout",
     "output_type": "stream",
     "text": [
      "field exist, value did not match\n",
      "field exist, value did not match\n",
      "field exist, value did not match\n",
      "field exist, value did not match\n",
      "field exist, value did not match\n"
     ]
    }
   ],
   "source": [
    "server_data_root_path = 'http://10.30.223.96/xnat-docker-compose/xnat-data/archive'\n",
    "download_root = '/home/anpo/Desktop/DataForDBtest' # your data deposit location\n",
    "\n",
    "url = 'http://10.30.223.96' # xnat ip\n",
    "usr = 'anpo'# your password\n",
    "password = 'espesp043'# your password\n",
    "# create server connection object\n",
    "session = xnat_download.connect_xnat(url, usr, password)\n",
    "\n",
    "# list project, here I assumed querying files based on dicom tag is not cross projects\n",
    "projects = session.projects\n",
    "\n",
    "project_name = \"test_pj2\" # your project name\n",
    "pj_path = os.path.join(server_data_root_path, project_name)\n",
    "\n",
    "# single field, single value\n",
    "dicom_query_field = 'Modality'\n",
    "dicom_query_value = 'CT'\n",
    "\n",
    "dicom_query_field = 'BodyPartExamined'\n",
    "dicom_query_value = 'CHEST'\n",
    "\n",
    "# single field, multiple value\n",
    "dicom_query_field = 'StudyDescription'\n",
    "dicom_query_value = ['Chest A-P View', 'Chest P-A View']\n",
    "\n",
    "# return the file paths and download the data\n",
    "files_paths = xnat_download.query_dicom(project_name, projects, pj_path, dicom_query_field, dicom_query_value, download_root)\n"
   ]
  },
  {
   "cell_type": "code",
   "execution_count": null,
   "metadata": {},
   "outputs": [],
   "source": []
  }
 ],
 "metadata": {
  "kernelspec": {
   "display_name": "Python 3",
   "language": "python",
   "name": "python3"
  },
  "language_info": {
   "codemirror_mode": {
    "name": "ipython",
    "version": 3
   },
   "file_extension": ".py",
   "mimetype": "text/x-python",
   "name": "python",
   "nbconvert_exporter": "python",
   "pygments_lexer": "ipython3",
   "version": "3.8.5"
  }
 },
 "nbformat": 4,
 "nbformat_minor": 4
}

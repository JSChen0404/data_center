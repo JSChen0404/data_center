{
 "cells": [
  {
   "cell_type": "code",
   "execution_count": 1,
   "metadata": {
    "scrolled": true
   },
   "outputs": [],
   "source": [
    "import sys\n",
    "import os\n",
    "xnat_dir = '/home/anpo/anaconda3/lib/python3.8/site-packages/xnat'\n",
    "sys.path.append('/home/anpo/anaconda3/lib/python3.8')\n",
    "sys.path.append('/home/anpo/anaconda3/lib/python3.8/site-packages')\n",
    "sys.path.append(xnat_dir)\n",
    "\n",
    "# make sure you add the dir for xnat_donwload module\n",
    "sys.path.append('/home/anpo/Desktop/pyscript/xnat') \n",
    "\n",
    "import load_config\n",
    "import xnat_download"
   ]
  },
  {
   "cell_type": "code",
   "execution_count": 2,
   "metadata": {
    "scrolled": false
   },
   "outputs": [
    {
     "name": "stdout",
     "output_type": "stream",
     "text": [
      "xnatQ\n",
      "cgmh1028\n",
      "query field did not exist\n",
      "query field did not exist\n",
      "query field did not exist\n",
      "query field did not exist\n",
      "field exist, value did not match\n",
      "field exist, value did not match\n",
      "field exist, value did not match\n",
      "field exist, value did not match\n",
      "field exist, value did not match\n",
      "query field did not exist\n",
      "field exist, value did not match\n",
      "field exist, value did not match\n",
      "field exist, value did not match\n",
      "field exist, value did not match\n",
      "field exist, value did not match\n",
      "field exist, value did not match\n",
      "field exist, value did not match\n",
      "field exist, value did not match\n",
      "field exist, value did not match\n",
      "field exist, value did not match\n"
     ]
    },
    {
     "name": "stderr",
     "output_type": "stream",
     "text": [
      "526.8 KiB |#                                                      |  61.5 MiB/s\n"
     ]
    },
    {
     "name": "stdout",
     "output_type": "stream",
     "text": [
      "field exist, value did not match\n"
     ]
    },
    {
     "name": "stderr",
     "output_type": "stream",
     "text": [
      " 28.7 MiB |  #                                                    | 111.1 MiB/s\n",
      " 48.9 MiB |    #                                                  | 111.2 MiB/s\n"
     ]
    },
    {
     "name": "stdout",
     "output_type": "stream",
     "text": [
      "query field did not exist\n"
     ]
    },
    {
     "name": "stderr",
     "output_type": "stream",
     "text": [
      "515.3 KiB |#                                                      |  62.6 MiB/s\n",
      " 11.1 MiB | #                                                     | 110.6 MiB/s\n",
      " 18.6 MiB | #                                                     | 108.9 MiB/s\n",
      "  2.5 MiB |#                                                      |  96.7 MiB/s\n",
      "  2.5 MiB |#                                                      | 103.7 MiB/s\n",
      "  2.5 MiB |#                                                      | 105.9 MiB/s\n",
      "  8.1 MiB |#                                                      | 108.9 MiB/s\n"
     ]
    },
    {
     "name": "stdout",
     "output_type": "stream",
     "text": [
      "query field did not exist\n",
      "field exist, value did not match\n",
      "query field did not exist\n",
      "query field did not exist\n",
      "query field did not exist\n",
      "query field did not exist\n",
      "query field did not exist\n",
      "query field did not exist\n",
      "query field did not exist\n"
     ]
    }
   ],
   "source": [
    "download_root = '/home/anpo/Desktop/DataForDBtest' # your data deposit location\n",
    "\n",
    "project_name = \"test_pj4\" # your project name\n",
    "\n",
    "session, proj_path = load_config.load(project_name)\n",
    "\n",
    "dicom_query = {};\n",
    "dicom_query['BodyPartExamined'] = 'CHEST'\n",
    "#dicom_query['PatientAge'] = '057Y'\n",
    "dicom_query['Modality'] = 'CT'\n",
    "#dicom_query['StudyDescription'] = 'Chest A-P View'\n",
    "dicom_query['StudyDescription'] = 'test_pj4'\n",
    "\n",
    "# # return the file paths and download the data\n",
    "files_paths = xnat_download.query_dicom(project_name, session, proj_path, dicom_query, download_root)\n"
   ]
  },
  {
   "cell_type": "code",
   "execution_count": 10,
   "metadata": {},
   "outputs": [],
   "source": [
    "pj = session.projects[project_name]"
   ]
  },
  {
   "cell_type": "code",
   "execution_count": 11,
   "metadata": {},
   "outputs": [
    {
     "name": "stdout",
     "output_type": "stream",
     "text": [
      "<ProjectData test_project4 (test_pj4)>\n"
     ]
    }
   ],
   "source": [
    "print(pj)"
   ]
  },
  {
   "cell_type": "code",
   "execution_count": 3,
   "metadata": {},
   "outputs": [
    {
     "data": {
      "text/plain": [
       "['http://10.30.223.96/xnat-docker-compose/xnat-data/archive/test_pj4/1_2_528_1_1001_200_10_4201_11781_257665444_20201117080950713/094H31579X01/1',\n",
       " 'http://10.30.223.96/xnat-docker-compose/xnat-data/archive/test_pj4/1_2_528_1_1001_200_10_4201_11781_257665444_20201117080950713/094H31579X01/2',\n",
       " 'http://10.30.223.96/xnat-docker-compose/xnat-data/archive/test_pj4/1_2_528_1_1001_200_10_4201_11781_257665444_20201117080950713/094H31579X01/3',\n",
       " 'http://10.30.223.96/xnat-docker-compose/xnat-data/archive/test_pj4/1_2_528_1_1001_200_10_4201_11781_257665444_20201117183947510/105Q33253X01/1',\n",
       " 'http://10.30.223.96/xnat-docker-compose/xnat-data/archive/test_pj4/1_2_528_1_1001_200_10_4201_11781_257665444_20201117183947510/105Q33253X01/2',\n",
       " 'http://10.30.223.96/xnat-docker-compose/xnat-data/archive/test_pj4/1_2_528_1_1001_200_10_4201_11781_257665444_20201117183947510/105Q33253X01/3',\n",
       " 'http://10.30.223.96/xnat-docker-compose/xnat-data/archive/test_pj4/1_2_528_1_1001_200_10_4201_11781_257665444_20201117183947510/105Q33253X01/9',\n",
       " 'http://10.30.223.96/xnat-docker-compose/xnat-data/archive/test_pj4/1_2_528_1_1001_200_10_4201_11781_257665444_20201117183947510/105Q33253X01/10',\n",
       " 'http://10.30.223.96/xnat-docker-compose/xnat-data/archive/test_pj4/1_2_528_1_1001_200_10_4201_11781_257665444_20201117183947510/105Q33253X01/11',\n",
       " 'http://10.30.223.96/xnat-docker-compose/xnat-data/archive/test_pj4/1_2_528_1_1001_200_10_4201_11781_257665444_20201117183947510/105Q33253X01/12']"
      ]
     },
     "execution_count": 3,
     "metadata": {},
     "output_type": "execute_result"
    }
   ],
   "source": [
    "files_paths"
   ]
  },
  {
   "cell_type": "code",
   "execution_count": null,
   "metadata": {},
   "outputs": [],
   "source": []
  }
 ],
 "metadata": {
  "kernelspec": {
   "display_name": "Python 3",
   "language": "python",
   "name": "python3"
  },
  "language_info": {
   "codemirror_mode": {
    "name": "ipython",
    "version": 3
   },
   "file_extension": ".py",
   "mimetype": "text/x-python",
   "name": "python",
   "nbconvert_exporter": "python",
   "pygments_lexer": "ipython3",
   "version": "3.8.5"
  }
 },
 "nbformat": 4,
 "nbformat_minor": 4
}

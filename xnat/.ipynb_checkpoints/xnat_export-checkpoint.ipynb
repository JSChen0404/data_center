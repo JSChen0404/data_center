{
 "cells": [
  {
   "cell_type": "code",
   "execution_count": 1,
   "metadata": {
    "scrolled": true
   },
   "outputs": [],
   "source": [
    "import sys\n",
    "import os\n",
    "xnat_dir = '/home/anpo/anaconda3/lib/python3.8/site-packages/xnat'\n",
    "sys.path.append('/home/anpo/anaconda3/lib/python3.8')\n",
    "sys.path.append('/home/anpo/anaconda3/lib/python3.8/site-packages')\n",
    "sys.path.append(xnat_dir)\n",
    "\n",
    "# make sure you add the dir for xnat_donwload module\n",
    "sys.path.append('/home/anpo/Desktop/pyscript/data_center/xnat') \n",
    "\n",
    "import load_config\n",
    "import xnat_download"
   ]
  },
  {
   "cell_type": "code",
   "execution_count": 3,
   "metadata": {
    "scrolled": false
   },
   "outputs": [
    {
     "name": "stdout",
     "output_type": "stream",
     "text": [
      "anpo\n",
      "espesp043\n",
      "query field did not exist\n",
      "query field did not exist\n",
      "query field did not exist\n",
      "query field did not exist\n"
     ]
    },
    {
     "ename": "TypeError",
     "evalue": "list indices must be integers or slices, not str",
     "output_type": "error",
     "traceback": [
      "\u001b[0;31m---------------------------------------------------------------------------\u001b[0m",
      "\u001b[0;31mTypeError\u001b[0m                                 Traceback (most recent call last)",
      "\u001b[0;32m<ipython-input-3-ad256655d8e6>\u001b[0m in \u001b[0;36m<module>\u001b[0;34m\u001b[0m\n\u001b[1;32m     13\u001b[0m \u001b[0;34m\u001b[0m\u001b[0m\n\u001b[1;32m     14\u001b[0m \u001b[0;31m# # return the file paths and download the data\u001b[0m\u001b[0;34m\u001b[0m\u001b[0;34m\u001b[0m\u001b[0;34m\u001b[0m\u001b[0m\n\u001b[0;32m---> 15\u001b[0;31m \u001b[0mfiles_paths\u001b[0m \u001b[0;34m=\u001b[0m \u001b[0mxnat_download\u001b[0m\u001b[0;34m.\u001b[0m\u001b[0mquery_dicom\u001b[0m\u001b[0;34m(\u001b[0m\u001b[0mproject_name\u001b[0m\u001b[0;34m,\u001b[0m \u001b[0msession\u001b[0m\u001b[0;34m,\u001b[0m \u001b[0mproj_path\u001b[0m\u001b[0;34m,\u001b[0m \u001b[0mdicom_query\u001b[0m\u001b[0;34m,\u001b[0m \u001b[0mdownload_root\u001b[0m\u001b[0;34m)\u001b[0m\u001b[0;34m\u001b[0m\u001b[0;34m\u001b[0m\u001b[0m\n\u001b[0m\u001b[1;32m     16\u001b[0m \u001b[0;34m\u001b[0m\u001b[0m\n\u001b[1;32m     17\u001b[0m \u001b[0msession\u001b[0m\u001b[0;34m.\u001b[0m\u001b[0mdisconnect\u001b[0m\u001b[0;34m(\u001b[0m\u001b[0;34m)\u001b[0m\u001b[0;34m\u001b[0m\u001b[0;34m\u001b[0m\u001b[0m\n",
      "\u001b[0;32m~/Desktop/pyscript/data_center/xnat/xnat_download.py\u001b[0m in \u001b[0;36mquery_dicom\u001b[0;34m(project_name, session, pj_path, dicom_query, download_root)\u001b[0m\n\u001b[1;32m     38\u001b[0m                 \u001b[0;31m#pdb.set_trace() % careful dicom_tag.dir not list all?\u001b[0m\u001b[0;34m\u001b[0m\u001b[0;34m\u001b[0m\u001b[0;34m\u001b[0m\u001b[0m\n\u001b[1;32m     39\u001b[0m                 \u001b[0;32mif\u001b[0m \u001b[0mall\u001b[0m\u001b[0;34m(\u001b[0m\u001b[0mismember0\u001b[0m\u001b[0;34m(\u001b[0m\u001b[0mdf\u001b[0m\u001b[0;34m,\u001b[0m \u001b[0mdicom_tag\u001b[0m\u001b[0;34m.\u001b[0m\u001b[0mdir\u001b[0m\u001b[0;34m(\u001b[0m\u001b[0;34m)\u001b[0m\u001b[0;34m)\u001b[0m\u001b[0;34m)\u001b[0m\u001b[0;34m:\u001b[0m\u001b[0;34m\u001b[0m\u001b[0;34m\u001b[0m\u001b[0m\n\u001b[0;32m---> 40\u001b[0;31m                     \u001b[0mout\u001b[0m\u001b[0;34m,\u001b[0m \u001b[0mquery_out\u001b[0m \u001b[0;34m=\u001b[0m \u001b[0mvalue_check\u001b[0m\u001b[0;34m(\u001b[0m\u001b[0mdicom_tag\u001b[0m\u001b[0;34m,\u001b[0m \u001b[0mdf\u001b[0m\u001b[0;34m,\u001b[0m \u001b[0mdv\u001b[0m\u001b[0;34m)\u001b[0m\u001b[0;34m\u001b[0m\u001b[0;34m\u001b[0m\u001b[0m\n\u001b[0m\u001b[1;32m     41\u001b[0m                     \u001b[0;32mif\u001b[0m \u001b[0mout\u001b[0m \u001b[0;34m:\u001b[0m\u001b[0;34m\u001b[0m\u001b[0;34m\u001b[0m\u001b[0m\n\u001b[1;32m     42\u001b[0m                         \u001b[0mfiles_paths\u001b[0m\u001b[0;34m.\u001b[0m\u001b[0mappend\u001b[0m\u001b[0;34m(\u001b[0m\u001b[0mfile_path\u001b[0m\u001b[0;34m)\u001b[0m\u001b[0;34m\u001b[0m\u001b[0;34m\u001b[0m\u001b[0m\n",
      "\u001b[0;32m~/Desktop/pyscript/data_center/xnat/xnat_download.py\u001b[0m in \u001b[0;36mvalue_check\u001b[0;34m(dicom_tag, df, list_value)\u001b[0m\n\u001b[1;32m     78\u001b[0m         \u001b[0mdicom_values\u001b[0m\u001b[0;34m.\u001b[0m\u001b[0mappend\u001b[0m\u001b[0;34m(\u001b[0m\u001b[0mdicom_v\u001b[0m\u001b[0;34m)\u001b[0m\u001b[0;34m\u001b[0m\u001b[0;34m\u001b[0m\u001b[0m\n\u001b[1;32m     79\u001b[0m         \u001b[0;31m# 一個個比對, 但有tolerance\u001b[0m\u001b[0;34m\u001b[0m\u001b[0;34m\u001b[0m\u001b[0;34m\u001b[0m\u001b[0m\n\u001b[0;32m---> 80\u001b[0;31m         \u001b[0;32mif\u001b[0m \u001b[0mdicom_v\u001b[0m \u001b[0;32min\u001b[0m \u001b[0mlist_value\u001b[0m\u001b[0;34m[\u001b[0m\u001b[0mi\u001b[0m\u001b[0;34m]\u001b[0m \u001b[0;34m|\u001b[0m \u001b[0mlist_value\u001b[0m\u001b[0;34m[\u001b[0m\u001b[0mi\u001b[0m\u001b[0;34m]\u001b[0m \u001b[0;32min\u001b[0m \u001b[0mdicom_v\u001b[0m \u001b[0;34m:\u001b[0m\u001b[0;34m\u001b[0m\u001b[0;34m\u001b[0m\u001b[0m\n\u001b[0m\u001b[1;32m     81\u001b[0m            \u001b[0mout\u001b[0m\u001b[0;34m.\u001b[0m\u001b[0mappend\u001b[0m\u001b[0;34m(\u001b[0m\u001b[0;32mTrue\u001b[0m\u001b[0;34m)\u001b[0m\u001b[0;34m\u001b[0m\u001b[0;34m\u001b[0m\u001b[0m\n\u001b[1;32m     82\u001b[0m         \u001b[0;32melse\u001b[0m\u001b[0;34m:\u001b[0m\u001b[0;34m\u001b[0m\u001b[0;34m\u001b[0m\u001b[0m\n",
      "\u001b[0;31mTypeError\u001b[0m: list indices must be integers or slices, not str"
     ]
    }
   ],
   "source": [
    "download_root = '/home/anpo/Desktop/DataForDBtest' # your data deposit location\n",
    "\n",
    "project_name = \"tpj1\" # your project name\n",
    "\n",
    "session, proj_path = load_config.load(project_name, 'anpo', 'espesp043')\n",
    "\n",
    "dicom_query = {};\n",
    "dicom_query['BodyPartExamined'] = 'CHEST'\n",
    "#dicom_query['PatientAge'] = '057Y'\n",
    "dicom_query['Modality'] = 'CT'\n",
    "#dicom_query['StudyDescription'] = 'Chest A-P View'\n",
    "dicom_query['StudyDescription'] = 'tpj1'\n",
    "\n",
    "# # return the file paths and download the data\n",
    "files_paths, query_result, scans_obj, download_paths = xnat_download.query_dicom(project_name, session, proj_path, dicom_query, download_root)\n",
    "\n",
    "print(files_paths)\n",
    "print(query_result)\n",
    "\n",
    "#看query_result. 根據你query的選擇, code抓到的關鍵字是哪些, 有沒有符合, 這裡的比對是field需要都存在, 但字本身有tolerance\n",
    "# 例如 upper chest 會 符合 chest 的 tag, 反之亦然. 最後的篩選還是需要根據 query result\n",
    "\n",
    "# 移除不需要的路徑後, 確認scans_obj和download_paths數目相同後可下載\n",
    "list_selected = [1,2,3] # 例如我只要list的這些\n",
    "paths_to_download = [download_paths[i] for i in list_selected]\n",
    "objs_to_download = [scans_obj[i] for i in list_selected]\n",
    "\n",
    "# \n",
    "xnat_download.download_files(objs_to_download, paths_to_download)\n",
    "\n",
    "session.disconnect()"
   ]
  },
  {
   "cell_type": "code",
   "execution_count": 5,
   "metadata": {},
   "outputs": [],
   "source": [
    "session.disconnect()"
   ]
  },
  {
   "cell_type": "code",
   "execution_count": 6,
   "metadata": {},
   "outputs": [
    {
     "data": {
      "text/plain": [
       "<xnat.session.XNATSession at 0x7f2ac8112e20>"
      ]
     },
     "execution_count": 6,
     "metadata": {},
     "output_type": "execute_result"
    }
   ],
   "source": [
    "session"
   ]
  },
  {
   "cell_type": "code",
   "execution_count": 3,
   "metadata": {},
   "outputs": [
    {
     "data": {
      "text/plain": [
       "['http://10.30.223.96/xnat-docker-compose/xnat-data/archive/test_pj4/1_2_528_1_1001_200_10_4201_11781_257665444_20201117080950713/094H31579X01/1',\n",
       " 'http://10.30.223.96/xnat-docker-compose/xnat-data/archive/test_pj4/1_2_528_1_1001_200_10_4201_11781_257665444_20201117080950713/094H31579X01/2',\n",
       " 'http://10.30.223.96/xnat-docker-compose/xnat-data/archive/test_pj4/1_2_528_1_1001_200_10_4201_11781_257665444_20201117080950713/094H31579X01/3',\n",
       " 'http://10.30.223.96/xnat-docker-compose/xnat-data/archive/test_pj4/1_2_528_1_1001_200_10_4201_11781_257665444_20201117183947510/105Q33253X01/1',\n",
       " 'http://10.30.223.96/xnat-docker-compose/xnat-data/archive/test_pj4/1_2_528_1_1001_200_10_4201_11781_257665444_20201117183947510/105Q33253X01/2',\n",
       " 'http://10.30.223.96/xnat-docker-compose/xnat-data/archive/test_pj4/1_2_528_1_1001_200_10_4201_11781_257665444_20201117183947510/105Q33253X01/3',\n",
       " 'http://10.30.223.96/xnat-docker-compose/xnat-data/archive/test_pj4/1_2_528_1_1001_200_10_4201_11781_257665444_20201117183947510/105Q33253X01/9',\n",
       " 'http://10.30.223.96/xnat-docker-compose/xnat-data/archive/test_pj4/1_2_528_1_1001_200_10_4201_11781_257665444_20201117183947510/105Q33253X01/10',\n",
       " 'http://10.30.223.96/xnat-docker-compose/xnat-data/archive/test_pj4/1_2_528_1_1001_200_10_4201_11781_257665444_20201117183947510/105Q33253X01/11',\n",
       " 'http://10.30.223.96/xnat-docker-compose/xnat-data/archive/test_pj4/1_2_528_1_1001_200_10_4201_11781_257665444_20201117183947510/105Q33253X01/12']"
      ]
     },
     "execution_count": 3,
     "metadata": {},
     "output_type": "execute_result"
    }
   ],
   "source": [
    "files_paths"
   ]
  },
  {
   "cell_type": "code",
   "execution_count": null,
   "metadata": {},
   "outputs": [],
   "source": []
  }
 ],
 "metadata": {
  "kernelspec": {
   "display_name": "Python 3",
   "language": "python",
   "name": "python3"
  },
  "language_info": {
   "codemirror_mode": {
    "name": "ipython",
    "version": 3
   },
   "file_extension": ".py",
   "mimetype": "text/x-python",
   "name": "python",
   "nbconvert_exporter": "python",
   "pygments_lexer": "ipython3",
   "version": "3.8.5"
  }
 },
 "nbformat": 4,
 "nbformat_minor": 4
}

{
 "cells": [
  {
   "cell_type": "code",
   "execution_count": 1,
   "metadata": {
    "scrolled": true
   },
   "outputs": [
    {
     "name": "stdout",
     "output_type": "stream",
     "text": [
      "['/home/anpo/Desktop/pyscript/data_center/xnat', '/home/anpo/anaconda3/envs/tf-gpu/lib/python38.zip', '/home/anpo/anaconda3/envs/tf-gpu/lib/python3.8', '/home/anpo/anaconda3/envs/tf-gpu/lib/python3.8/lib-dynload', '', '/home/anpo/anaconda3/envs/tf-gpu/lib/python3.8/site-packages', '/home/anpo/anaconda3/envs/tf-gpu/lib/python3.8/site-packages/IPython/extensions', '/home/anpo/.ipython', '/home/anpo/anaconda3/lib/python3.8', '/home/anpo/anaconda3/lib/python3.8/site-packages', '/home/anpo/anaconda3/lib/python3.8/site-packages/xnat']\n"
     ]
    }
   ],
   "source": [
    "import sys\n",
    "xnat_dir = '/home/anpo/anaconda3/lib/python3.8/site-packages/xnat'\n",
    "sys.path.append('/home/anpo/anaconda3/lib/python3.8')\n",
    "sys.path.append('/home/anpo/anaconda3/lib/python3.8/site-packages')\n",
    "sys.path.append(xnat_dir)\n",
    "print(sys.path)\n",
    "# make sure you add the dir for xnat_donwload module\n",
    "sys.path.append('/home/anpo/Desktop/pyscript/data_center/xnat') \n",
    "import xnat_uploader \n",
    "import os\n",
    "import glob\n",
    "import load_config"
   ]
  },
  {
   "cell_type": "code",
   "execution_count": 2,
   "metadata": {
    "scrolled": false
   },
   "outputs": [
    {
     "ename": "SyntaxError",
     "evalue": "EOL while scanning string literal (<ipython-input-2-42ac03511b9c>, line 2)",
     "output_type": "error",
     "traceback": [
      "\u001b[0;36m  File \u001b[0;32m\"<ipython-input-2-42ac03511b9c>\"\u001b[0;36m, line \u001b[0;32m2\u001b[0m\n\u001b[0;31m    data_root = '/home/anpo/XNAT_img\u001b[0m\n\u001b[0m                                    ^\u001b[0m\n\u001b[0;31mSyntaxError\u001b[0m\u001b[0;31m:\u001b[0m EOL while scanning string literal\n"
     ]
    }
   ],
   "source": [
    "\n",
    "#data_root = '/home/anpo/Desktop/DataForDBtest/pneumothorax_20201117_1' # your data deposit location\n",
    "data_root = '/home/anpo/XNAT_img'\n",
    "\n",
    "# create the project name at xnat first\n",
    "project_name = 'tpj1' \n",
    "\n",
    "session, proj_path = load_config.load(project_name, 'anpo', 'espesp043')\n",
    "\n",
    "# not uploaded subject list\n",
    "unuploded_subjects = [] \n",
    "other_list = []\n",
    "\n",
    "# already uploaded subject list\n",
    "online_list = []\n",
    "for subject_name in session.projects[project_name].subjects.values():\n",
    "    online_list.append(subject_name.label)\n",
    "\n",
    "for subdir_name in glob.glob(os.path.join(data_root, '*', '')):\n",
    "    patient_ID = subdir_name.split('/')[-2]\n",
    "    image_No = xnat_uploader.get_DICOM_info(data_root, patient_ID)\n",
    "    print(image_No)\n",
    "    # if unable to extract subject exp id info\n",
    "    if not image_No:\n",
    "        unuploded_subjects.append(patient_ID)\n",
    "        continue\n",
    "    \n",
    "    # if match already uploaded subject, pass\n",
    "    if patient_ID.replace('.','_') in online_list: \n",
    "       # print('already_there')\n",
    "        continue\n",
    "        \n",
    "    try:        \n",
    "        experiment = xnat_uploader.img_uploader(data_root, session, project_name, patient_ID, image_No)\n",
    "        print(patient_ID)\n",
    "    except Exception:\n",
    "        other_list.append(patient_ID)\n",
    "        continue\n",
    "        \n",
    "session.disconnect()\n",
    "print('done')\n"
   ]
  },
  {
   "cell_type": "code",
   "execution_count": 5,
   "metadata": {},
   "outputs": [
    {
     "data": {
      "text/plain": [
       "[]"
      ]
     },
     "execution_count": 5,
     "metadata": {},
     "output_type": "execute_result"
    }
   ],
   "source": [
    "unuploded_subjects"
   ]
  },
  {
   "cell_type": "code",
   "execution_count": 6,
   "metadata": {},
   "outputs": [
    {
     "data": {
      "text/plain": [
       "[]"
      ]
     },
     "execution_count": 6,
     "metadata": {},
     "output_type": "execute_result"
    }
   ],
   "source": [
    "other_list"
   ]
  },
  {
   "cell_type": "code",
   "execution_count": null,
   "metadata": {},
   "outputs": [],
   "source": []
  }
 ],
 "metadata": {
  "kernelspec": {
   "display_name": "Python 3",
   "language": "python",
   "name": "python3"
  },
  "language_info": {
   "codemirror_mode": {
    "name": "ipython",
    "version": 3
   },
   "file_extension": ".py",
   "mimetype": "text/x-python",
   "name": "python",
   "nbconvert_exporter": "python",
   "pygments_lexer": "ipython3",
   "version": "3.8.5"
  }
 },
 "nbformat": 4,
 "nbformat_minor": 4
}

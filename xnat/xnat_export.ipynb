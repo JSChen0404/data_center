{
 "cells": [
  {
   "cell_type": "code",
   "execution_count": 1,
   "metadata": {
    "scrolled": true
   },
   "outputs": [],
   "source": [
    "import sys\n",
    "import os\n",
    "xnat_dir = '/home/anpo/anaconda3/lib/python3.8/site-packages/xnat'\n",
    "sys.path.append('/home/anpo/anaconda3/lib/python3.8')\n",
    "sys.path.append('/home/anpo/anaconda3/lib/python3.8/site-packages')\n",
    "sys.path.append(xnat_dir)\n",
    "\n",
    "# make sure you add the dir for xnat_donwload module\n",
    "sys.path.append('/home/anpo/Desktop/pyscript/data_center/xnat') \n",
    "\n",
    "import load_config\n",
    "import xnat_download"
   ]
  },
  {
   "cell_type": "code",
   "execution_count": 2,
   "metadata": {
    "scrolled": false
   },
   "outputs": [
    {
     "name": "stdout",
     "output_type": "stream",
     "text": [
      "anpo\n",
      "espesp043\n",
      "query field did not exist\n",
      "query field did not exist\n",
      "query field did not exist\n",
      "query field did not exist\n",
      "field exist, value did not match\n",
      "field exist, value did not match\n",
      "field exist, value did not match\n",
      "field exist, value did not match\n",
      "field exist, value did not match\n",
      "query field did not exist\n",
      "field exist, value did not match\n",
      "field exist, value did not match\n",
      "field exist, value did not match\n",
      "field exist, value did not match\n",
      "field exist, value did not match\n",
      "field exist, value did not match\n",
      "field exist, value did not match\n",
      "field exist, value did not match\n",
      "field exist, value did not match\n",
      "field exist, value did not match\n",
      "field exist, value did not match\n",
      "query field did not exist\n",
      "query field did not exist\n",
      "field exist, value did not match\n",
      "query field did not exist\n",
      "query field did not exist\n",
      "query field did not exist\n",
      "query field did not exist\n",
      "query field did not exist\n",
      "query field did not exist\n",
      "query field did not exist\n"
     ]
    },
    {
     "name": "stderr",
     "output_type": "stream",
     "text": [
      " 10.3 MiB | #                                                     | 102.8 MiB/s"
     ]
    },
    {
     "name": "stdout",
     "output_type": "stream",
     "text": [
      "['http://10.30.223.96/xnat-docker-compose/xnat-data/archive/tpj1/1_2_528_1_1001_200_10_4201_11781_257665444_20201117080950713/094H31579X01/1', 'http://10.30.223.96/xnat-docker-compose/xnat-data/archive/tpj1/1_2_528_1_1001_200_10_4201_11781_257665444_20201117080950713/094H31579X01/2', 'http://10.30.223.96/xnat-docker-compose/xnat-data/archive/tpj1/1_2_528_1_1001_200_10_4201_11781_257665444_20201117080950713/094H31579X01/3', 'http://10.30.223.96/xnat-docker-compose/xnat-data/archive/tpj1/1_2_528_1_1001_200_10_4201_11781_257665444_20201117183947510/105Q33253X01/1', 'http://10.30.223.96/xnat-docker-compose/xnat-data/archive/tpj1/1_2_528_1_1001_200_10_4201_11781_257665444_20201117183947510/105Q33253X01/2', 'http://10.30.223.96/xnat-docker-compose/xnat-data/archive/tpj1/1_2_528_1_1001_200_10_4201_11781_257665444_20201117183947510/105Q33253X01/3', 'http://10.30.223.96/xnat-docker-compose/xnat-data/archive/tpj1/1_2_528_1_1001_200_10_4201_11781_257665444_20201117183947510/105Q33253X01/9', 'http://10.30.223.96/xnat-docker-compose/xnat-data/archive/tpj1/1_2_528_1_1001_200_10_4201_11781_257665444_20201117183947510/105Q33253X01/10', 'http://10.30.223.96/xnat-docker-compose/xnat-data/archive/tpj1/1_2_528_1_1001_200_10_4201_11781_257665444_20201117183947510/105Q33253X01/11', 'http://10.30.223.96/xnat-docker-compose/xnat-data/archive/tpj1/1_2_528_1_1001_200_10_4201_11781_257665444_20201117183947510/105Q33253X01/12', 'http://10.30.223.96/xnat-docker-compose/xnat-data/archive/tpj1/1_2_528_1_1001_200_10_4201_11781_257665444_20201117160708803/182N38271X01/1', 'http://10.30.223.96/xnat-docker-compose/xnat-data/archive/tpj1/1_2_528_1_1001_200_10_4201_11781_257665444_20201117160708803/182N38271X01/3', 'http://10.30.223.96/xnat-docker-compose/xnat-data/archive/tpj1/1_2_528_1_1001_200_10_4201_11781_257665444_20201117160708803/182N38271X01/5', 'http://10.30.223.96/xnat-docker-compose/xnat-data/archive/tpj1/1_2_528_1_1001_200_10_4201_11781_257665444_20201117160708803/182N38271X01/7', 'http://10.30.223.96/xnat-docker-compose/xnat-data/archive/tpj1/1_2_528_1_1001_200_10_4201_11781_257665444_20201117160708803/182N38271X01/9998']\n",
      "[['chest', 'ct', 'tpj1'], ['chest', 'ct', 'tpj1'], ['chest', 'ct', 'tpj1'], ['chest', 'ct', 'tpj1'], ['chest', 'ct', 'tpj1'], ['chest', 'ct', 'tpj1'], ['chest', 'ct', 'tpj1'], ['chest', 'ct', 'tpj1'], ['chest', 'ct', 'tpj1'], ['chest', 'ct', 'tpj1'], ['chest', 'ct', 'tpj1'], ['chest', 'ct', 'tpj1'], ['chest', 'ct', 'tpj1'], ['chest', 'ct', 'tpj1'], ['chest', 'ct', 'tpj1']]\n"
     ]
    },
    {
     "name": "stderr",
     "output_type": "stream",
     "text": [
      " 28.7 MiB |  #                                                    | 106.4 MiB/s\n",
      " 48.9 MiB |    #                                                  | 100.5 MiB/s\n",
      "515.3 KiB |#                                                      |  97.7 MiB/s\n"
     ]
    }
   ],
   "source": [
    "download_root = '/home/anpo/Desktop/DataForDBtest' # your data deposit location\n",
    "\n",
    "project_name = \"tpj1\" # your project name\n",
    "\n",
    "session, proj_path = load_config.load(project_name, 'anpo', 'espesp043')\n",
    "\n",
    "dicom_query = {};\n",
    "dicom_query['BodyPartExamined'] = 'CHEST'\n",
    "#dicom_query['PatientAge'] = '057Y'\n",
    "dicom_query['Modality'] = 'CT'\n",
    "#dicom_query['StudyDescription'] = 'Chest A-P View'\n",
    "dicom_query['StudyDescription'] = 'tpj1'\n",
    "\n",
    "# # return the file paths and download the data\n",
    "files_paths, query_result, scans_obj, download_paths = xnat_download.query_dicom(project_name, session, proj_path, dicom_query, download_root)\n",
    "\n",
    "print(files_paths)\n",
    "print(query_result)\n",
    "\n",
    "#看query_result. 根據你query的選擇, code抓到的關鍵字是哪些, 有沒有符合, 這裡的比對是field需要都存在, 但字本身有tolerance\n",
    "# 例如 upper chest 會 符合 chest 的 tag, 反之亦然. 最後的篩選還是需要根據 query result\n",
    "\n",
    "# 移除不需要的路徑後, 確認scans_obj和download_paths數目相同後可下載\n",
    "list_selected = [1,2,3] # 例如我只要list的這些\n",
    "paths_to_download = [download_paths[i] for i in list_selected]\n",
    "objs_to_download = [scans_obj[i] for i in list_selected]\n",
    "\n",
    "# \n",
    "xnat_download.download_files(objs_to_download, paths_to_download)\n",
    "\n",
    "session.disconnect()"
   ]
  },
  {
   "cell_type": "code",
   "execution_count": 5,
   "metadata": {},
   "outputs": [],
   "source": [
    "session.disconnect()"
   ]
  },
  {
   "cell_type": "code",
   "execution_count": 6,
   "metadata": {},
   "outputs": [
    {
     "data": {
      "text/plain": [
       "<xnat.session.XNATSession at 0x7f2ac8112e20>"
      ]
     },
     "execution_count": 6,
     "metadata": {},
     "output_type": "execute_result"
    }
   ],
   "source": [
    "session"
   ]
  },
  {
   "cell_type": "code",
   "execution_count": 3,
   "metadata": {},
   "outputs": [
    {
     "data": {
      "text/plain": [
       "['http://10.30.223.96/xnat-docker-compose/xnat-data/archive/test_pj4/1_2_528_1_1001_200_10_4201_11781_257665444_20201117080950713/094H31579X01/1',\n",
       " 'http://10.30.223.96/xnat-docker-compose/xnat-data/archive/test_pj4/1_2_528_1_1001_200_10_4201_11781_257665444_20201117080950713/094H31579X01/2',\n",
       " 'http://10.30.223.96/xnat-docker-compose/xnat-data/archive/test_pj4/1_2_528_1_1001_200_10_4201_11781_257665444_20201117080950713/094H31579X01/3',\n",
       " 'http://10.30.223.96/xnat-docker-compose/xnat-data/archive/test_pj4/1_2_528_1_1001_200_10_4201_11781_257665444_20201117183947510/105Q33253X01/1',\n",
       " 'http://10.30.223.96/xnat-docker-compose/xnat-data/archive/test_pj4/1_2_528_1_1001_200_10_4201_11781_257665444_20201117183947510/105Q33253X01/2',\n",
       " 'http://10.30.223.96/xnat-docker-compose/xnat-data/archive/test_pj4/1_2_528_1_1001_200_10_4201_11781_257665444_20201117183947510/105Q33253X01/3',\n",
       " 'http://10.30.223.96/xnat-docker-compose/xnat-data/archive/test_pj4/1_2_528_1_1001_200_10_4201_11781_257665444_20201117183947510/105Q33253X01/9',\n",
       " 'http://10.30.223.96/xnat-docker-compose/xnat-data/archive/test_pj4/1_2_528_1_1001_200_10_4201_11781_257665444_20201117183947510/105Q33253X01/10',\n",
       " 'http://10.30.223.96/xnat-docker-compose/xnat-data/archive/test_pj4/1_2_528_1_1001_200_10_4201_11781_257665444_20201117183947510/105Q33253X01/11',\n",
       " 'http://10.30.223.96/xnat-docker-compose/xnat-data/archive/test_pj4/1_2_528_1_1001_200_10_4201_11781_257665444_20201117183947510/105Q33253X01/12']"
      ]
     },
     "execution_count": 3,
     "metadata": {},
     "output_type": "execute_result"
    }
   ],
   "source": [
    "files_paths"
   ]
  },
  {
   "cell_type": "code",
   "execution_count": null,
   "metadata": {},
   "outputs": [],
   "source": []
  }
 ],
 "metadata": {
  "kernelspec": {
   "display_name": "Python 3",
   "language": "python",
   "name": "python3"
  },
  "language_info": {
   "codemirror_mode": {
    "name": "ipython",
    "version": 3
   },
   "file_extension": ".py",
   "mimetype": "text/x-python",
   "name": "python",
   "nbconvert_exporter": "python",
   "pygments_lexer": "ipython3",
   "version": "3.8.5"
  }
 },
 "nbformat": 4,
 "nbformat_minor": 4
}

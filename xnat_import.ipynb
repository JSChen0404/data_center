{
 "cells": [
  {
   "cell_type": "code",
   "execution_count": null,
   "metadata": {},
   "outputs": [],
   "source": [
    "import sys\n",
    "xnat_dir = '/home/anpo/anaconda3/lib/python3.8/site-packages/xnat'\n",
    "sys.path.append('/home/anpo/anaconda3/lib/python3.8')\n",
    "sys.path.append('/home/anpo/anaconda3/lib/python3.8/site-packages')\n",
    "sys.path.append(xnat_dir)\n",
    "print(sys.path)\n",
    "# make sure you add the dir for xnat_donwload module\n",
    "sys.path.append('/home/anpo/Desktop/pyscript/xnat') \n",
    "import xnat_uploader \n",
    "import os\n",
    "import glob"
   ]
  },
  {
   "cell_type": "code",
   "execution_count": null,
   "metadata": {
    "scrolled": false
   },
   "outputs": [],
   "source": [
    "\n",
    "data_root = '/home/anpo/Desktop/DataForDBtest/pneumothorax_20201117_1' # your data deposit location\n",
    "\n",
    "url = 'http://10.30.223.96' # xnat ip\n",
    "usr = 'anpo'# your password\n",
    "password = 'espesp043'# your password\n",
    "# create server connection object\n",
    "session = xnat_uploader.connect_xnat(url, usr, password)\n",
    "\n",
    "# create the project name at xnat first\n",
    "project_name = 'test_pj3' \n",
    "unuploded_subjects = [] \n",
    "\n",
    "# already uploaded subject list\n",
    "online_list = []\n",
    "other_list = []\n",
    "for subject_name in session.projects[project_name].subjects.values():\n",
    "    online_list.append(subject_name.label)\n",
    "\n",
    "for subdir_name in glob.glob(os.path.join(data_root, '*', '')):\n",
    "    patient_ID = subdir_name.split('/')[-2]\n",
    "    image_No = xnat_uploader.get_DICOM_info(data_root, patient_ID)\n",
    "    print(image_No)\n",
    "    # if unable to extract subject id info\n",
    "    if not image_No:\n",
    "        unuploded_subjects.append(patient_ID)\n",
    "        continue\n",
    "    \n",
    "    # if match already uploaded subject, pass\n",
    "    if patient_ID.replace('.','_') in online_list: \n",
    "       # print('already_there')\n",
    "        continue\n",
    "        \n",
    "    try:        \n",
    "        experiment = xnat_uploader.img_uploader(data_root, session, project_name, patient_ID, image_No)\n",
    "        print(patient_ID)\n",
    "    except Exception:\n",
    "        other_list.append(patient_ID)\n",
    "        continue\n",
    "        \n",
    "session.disconnect()\n",
    "print('done')\n"
   ]
  },
  {
   "cell_type": "code",
   "execution_count": null,
   "metadata": {},
   "outputs": [],
   "source": [
    "other_list"
   ]
  },
  {
   "cell_type": "code",
   "execution_count": null,
   "metadata": {},
   "outputs": [],
   "source": [
    "unuploded_subjects"
   ]
  },
  {
   "cell_type": "code",
   "execution_count": null,
   "metadata": {},
   "outputs": [],
   "source": [
    "patient_ID"
   ]
  },
  {
   "cell_type": "code",
   "execution_count": null,
   "metadata": {},
   "outputs": [],
   "source": [
    "image_No = get_DICOM_info(data_root, patient_ID)"
   ]
  },
  {
   "cell_type": "code",
   "execution_count": null,
   "metadata": {},
   "outputs": [],
   "source": [
    "patient_ID = '1.2.528.1.1001.200.10.4201.11781.257665444.20201117070644906'"
   ]
  },
  {
   "cell_type": "code",
   "execution_count": null,
   "metadata": {
    "scrolled": true
   },
   "outputs": [],
   "source": [
    "patient_ID in online_list"
   ]
  }
 ],
 "metadata": {
  "kernelspec": {
   "display_name": "Python 3",
   "language": "python",
   "name": "python3"
  },
  "language_info": {
   "codemirror_mode": {
    "name": "ipython",
    "version": 3
   },
   "file_extension": ".py",
   "mimetype": "text/x-python",
   "name": "python",
   "nbconvert_exporter": "python",
   "pygments_lexer": "ipython3",
   "version": "3.8.5"
  }
 },
 "nbformat": 4,
 "nbformat_minor": 4
}

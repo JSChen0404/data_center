{
 "cells": [
  {
   "cell_type": "code",
   "execution_count": 1,
   "metadata": {},
   "outputs": [
    {
     "name": "stdout",
     "output_type": "stream",
     "text": [
      "['/home/anpo/Desktop/pyscript/xnat', '/home/anpo/anaconda3/envs/tf-gpu/lib/python38.zip', '/home/anpo/anaconda3/envs/tf-gpu/lib/python3.8', '/home/anpo/anaconda3/envs/tf-gpu/lib/python3.8/lib-dynload', '', '/home/anpo/anaconda3/envs/tf-gpu/lib/python3.8/site-packages', '/home/anpo/anaconda3/envs/tf-gpu/lib/python3.8/site-packages/IPython/extensions', '/home/anpo/.ipython', '/home/anpo/anaconda3/lib/python3.8', '/home/anpo/anaconda3/lib/python3.8/site-packages', '/home/anpo/anaconda3/lib/python3.8/site-packages/xnat']\n"
     ]
    }
   ],
   "source": [
    "import sys\n",
    "xnat_dir = '/home/anpo/anaconda3/lib/python3.8/site-packages/xnat'\n",
    "sys.path.append('/home/anpo/anaconda3/lib/python3.8')\n",
    "sys.path.append('/home/anpo/anaconda3/lib/python3.8/site-packages')\n",
    "sys.path.append(xnat_dir)\n",
    "print(sys.path)\n",
    "# make sure you add the dir for xnat_donwload module\n",
    "sys.path.append('/home/anpo/Desktop/pyscript/xnat') \n",
    "import xnat_uploader \n",
    "import os\n",
    "import glob"
   ]
  },
  {
   "cell_type": "code",
   "execution_count": 2,
   "metadata": {
    "scrolled": false
   },
   "outputs": [
    {
     "name": "stdout",
     "output_type": "stream",
     "text": [
      "045332581X02\n",
      "1.2.528.1.1001.200.10.4201.11781.257665444.20201117123754527\n",
      "045H32843X01\n",
      "1.2.528.1.1001.200.10.4201.11781.257665444.20201117161820208\n",
      "064H30487X01\n",
      "1.2.528.1.1001.200.10.4201.11781.257665444.20201117084333621\n",
      "163D36936X01\n",
      "1.2.528.1.1001.200.10.4201.11781.257665444.20201117205445780\n",
      "097820704X01\n",
      "1.2.528.1.1001.200.10.4201.11781.257665444.20201117070644906\n",
      "089531011X02\n",
      "1.2.528.1.1001.200.10.4201.11781.257665444.20201117081112885\n",
      "067T33751X01\n",
      "1.2.528.1.1001.200.10.4201.11781.257665444.20201117095314920\n",
      "186D36586X01\n",
      "1.2.528.1.1001.200.10.4201.11781.257665444.20201117153227357\n",
      "16AL34303X01\n",
      "1.2.528.1.1001.200.10.4201.11781.257665444.20201117192745301\n",
      "136K34492X01\n",
      "1.2.528.1.1001.200.10.4201.11781.257665444.20201117201752018\n",
      "062N33651X01\n",
      "1.2.528.1.1001.200.10.4201.11781.257665444.20201117101101039\n",
      "14AB35532X01\n",
      "1.2.528.1.1001.200.10.4201.11781.257665444.20201117120135847\n",
      "18BU39578X01\n",
      "1.2.528.1.1001.200.10.4201.11781.257665444.20201117145120663\n",
      "098H35216X01\n",
      "1.2.528.1.1001.200.10.4201.11781.257665444.20201117104252458\n",
      "18AG37567X01\n",
      "1.2.528.1.1001.200.10.4201.11781.257665444.20201117112944145\n",
      "199530548X01\n",
      "1.2.528.1.1001.200.10.4201.11781.257665444.20201117160606600\n",
      "094H31579X01\n",
      "1.2.528.1.1001.200.10.4201.11781.257665444.20201117080950713\n",
      "105Q33253X01\n",
      "1.2.528.1.1001.200.10.4201.11781.257665444.20201117183947510\n",
      "12AC32682X01\n",
      "1.2.528.1.1001.200.10.4201.11781.257665444.20201117112532222\n",
      "124431085X01\n",
      "1.2.528.1.1001.200.10.4201.11781.257665444.20201117112138162\n",
      "182N38271X01\n"
     ]
    },
    {
     "ename": "KeyboardInterrupt",
     "evalue": "",
     "output_type": "error",
     "traceback": [
      "\u001b[0;31m---------------------------------------------------------------------------\u001b[0m",
      "\u001b[0;31mKeyboardInterrupt\u001b[0m                         Traceback (most recent call last)",
      "\u001b[0;32m<ipython-input-2-fb6cee918db0>\u001b[0m in \u001b[0;36m<module>\u001b[0;34m\u001b[0m\n\u001b[1;32m     32\u001b[0m \u001b[0;34m\u001b[0m\u001b[0m\n\u001b[1;32m     33\u001b[0m     \u001b[0;32mtry\u001b[0m\u001b[0;34m:\u001b[0m\u001b[0;34m\u001b[0m\u001b[0;34m\u001b[0m\u001b[0m\n\u001b[0;32m---> 34\u001b[0;31m         \u001b[0mexperiment\u001b[0m \u001b[0;34m=\u001b[0m \u001b[0mxnat_uploader\u001b[0m\u001b[0;34m.\u001b[0m\u001b[0mimg_uploader\u001b[0m\u001b[0;34m(\u001b[0m\u001b[0mdata_root\u001b[0m\u001b[0;34m,\u001b[0m \u001b[0msession\u001b[0m\u001b[0;34m,\u001b[0m \u001b[0mproject_name\u001b[0m\u001b[0;34m,\u001b[0m \u001b[0mpatient_ID\u001b[0m\u001b[0;34m,\u001b[0m \u001b[0mimage_No\u001b[0m\u001b[0;34m)\u001b[0m\u001b[0;34m\u001b[0m\u001b[0;34m\u001b[0m\u001b[0m\n\u001b[0m\u001b[1;32m     35\u001b[0m         \u001b[0mprint\u001b[0m\u001b[0;34m(\u001b[0m\u001b[0mpatient_ID\u001b[0m\u001b[0;34m)\u001b[0m\u001b[0;34m\u001b[0m\u001b[0;34m\u001b[0m\u001b[0m\n\u001b[1;32m     36\u001b[0m     \u001b[0;32mexcept\u001b[0m \u001b[0mException\u001b[0m\u001b[0;34m:\u001b[0m\u001b[0;34m\u001b[0m\u001b[0;34m\u001b[0m\u001b[0m\n",
      "\u001b[0;32m~/Desktop/pyscript/xnat/xnat_uploader.py\u001b[0m in \u001b[0;36mimg_uploader\u001b[0;34m(root_path, session, project_name, patient_ID, image_No)\u001b[0m\n\u001b[1;32m     45\u001b[0m     \u001b[0;32mif\u001b[0m \u001b[0mos\u001b[0m\u001b[0;34m.\u001b[0m\u001b[0mpath\u001b[0m\u001b[0;34m.\u001b[0m\u001b[0misfile\u001b[0m\u001b[0;34m(\u001b[0m\u001b[0mfile_to_check\u001b[0m\u001b[0;34m)\u001b[0m\u001b[0;34m:\u001b[0m\u001b[0;34m\u001b[0m\u001b[0;34m\u001b[0m\u001b[0m\n\u001b[1;32m     46\u001b[0m        \u001b[0mos\u001b[0m\u001b[0;34m.\u001b[0m\u001b[0mremove\u001b[0m\u001b[0;34m(\u001b[0m\u001b[0mfile_to_check\u001b[0m\u001b[0;34m)\u001b[0m\u001b[0;34m\u001b[0m\u001b[0;34m\u001b[0m\u001b[0m\n\u001b[0;32m---> 47\u001b[0;31m     \u001b[0mzip_dir\u001b[0m\u001b[0;34m(\u001b[0m\u001b[0mfile_path\u001b[0m\u001b[0;34m,\u001b[0m \u001b[0mzip_dir_name\u001b[0m\u001b[0;34m)\u001b[0m\u001b[0;34m\u001b[0m\u001b[0;34m\u001b[0m\u001b[0m\n\u001b[0m\u001b[1;32m     48\u001b[0m    \u001b[0;31m# pdb.set_trace()\u001b[0m\u001b[0;34m\u001b[0m\u001b[0;34m\u001b[0m\u001b[0;34m\u001b[0m\u001b[0m\n\u001b[1;32m     49\u001b[0m     experiment = session.services.import_(os.path.join(file_path, zip_dir_name),\n",
      "\u001b[0;32m~/Desktop/pyscript/xnat/xnat_uploader.py\u001b[0m in \u001b[0;36mzip_dir\u001b[0;34m(dirname, zipfilename)\u001b[0m\n\u001b[1;32m     33\u001b[0m         \u001b[0marcname\u001b[0m \u001b[0;34m=\u001b[0m \u001b[0mtar\u001b[0m\u001b[0;34m[\u001b[0m\u001b[0mlen\u001b[0m\u001b[0;34m(\u001b[0m\u001b[0mdirname\u001b[0m\u001b[0;34m)\u001b[0m\u001b[0;34m:\u001b[0m\u001b[0;34m]\u001b[0m\u001b[0;34m\u001b[0m\u001b[0;34m\u001b[0m\u001b[0m\n\u001b[1;32m     34\u001b[0m         \u001b[0;31m# print arcname\u001b[0m\u001b[0;34m\u001b[0m\u001b[0;34m\u001b[0m\u001b[0;34m\u001b[0m\u001b[0m\n\u001b[0;32m---> 35\u001b[0;31m         \u001b[0mzf\u001b[0m\u001b[0;34m.\u001b[0m\u001b[0mwrite\u001b[0m\u001b[0;34m(\u001b[0m\u001b[0mtar\u001b[0m\u001b[0;34m,\u001b[0m \u001b[0marcname\u001b[0m\u001b[0;34m)\u001b[0m\u001b[0;34m\u001b[0m\u001b[0;34m\u001b[0m\u001b[0m\n\u001b[0m\u001b[1;32m     36\u001b[0m     \u001b[0mzf\u001b[0m\u001b[0;34m.\u001b[0m\u001b[0mclose\u001b[0m\u001b[0;34m(\u001b[0m\u001b[0;34m)\u001b[0m\u001b[0;34m\u001b[0m\u001b[0;34m\u001b[0m\u001b[0m\n\u001b[1;32m     37\u001b[0m \u001b[0;34m\u001b[0m\u001b[0m\n",
      "\u001b[0;32m~/anaconda3/envs/tf-gpu/lib/python3.8/zipfile.py\u001b[0m in \u001b[0;36mwrite\u001b[0;34m(self, filename, arcname, compress_type, compresslevel)\u001b[0m\n\u001b[1;32m   1774\u001b[0m         \u001b[0;32melse\u001b[0m\u001b[0;34m:\u001b[0m\u001b[0;34m\u001b[0m\u001b[0;34m\u001b[0m\u001b[0m\n\u001b[1;32m   1775\u001b[0m             \u001b[0;32mwith\u001b[0m \u001b[0mopen\u001b[0m\u001b[0;34m(\u001b[0m\u001b[0mfilename\u001b[0m\u001b[0;34m,\u001b[0m \u001b[0;34m\"rb\"\u001b[0m\u001b[0;34m)\u001b[0m \u001b[0;32mas\u001b[0m \u001b[0msrc\u001b[0m\u001b[0;34m,\u001b[0m \u001b[0mself\u001b[0m\u001b[0;34m.\u001b[0m\u001b[0mopen\u001b[0m\u001b[0;34m(\u001b[0m\u001b[0mzinfo\u001b[0m\u001b[0;34m,\u001b[0m \u001b[0;34m'w'\u001b[0m\u001b[0;34m)\u001b[0m \u001b[0;32mas\u001b[0m \u001b[0mdest\u001b[0m\u001b[0;34m:\u001b[0m\u001b[0;34m\u001b[0m\u001b[0;34m\u001b[0m\u001b[0m\n\u001b[0;32m-> 1776\u001b[0;31m                 \u001b[0mshutil\u001b[0m\u001b[0;34m.\u001b[0m\u001b[0mcopyfileobj\u001b[0m\u001b[0;34m(\u001b[0m\u001b[0msrc\u001b[0m\u001b[0;34m,\u001b[0m \u001b[0mdest\u001b[0m\u001b[0;34m,\u001b[0m \u001b[0;36m1024\u001b[0m\u001b[0;34m*\u001b[0m\u001b[0;36m8\u001b[0m\u001b[0;34m)\u001b[0m\u001b[0;34m\u001b[0m\u001b[0;34m\u001b[0m\u001b[0m\n\u001b[0m\u001b[1;32m   1777\u001b[0m \u001b[0;34m\u001b[0m\u001b[0m\n\u001b[1;32m   1778\u001b[0m     def writestr(self, zinfo_or_arcname, data,\n",
      "\u001b[0;32m~/anaconda3/envs/tf-gpu/lib/python3.8/shutil.py\u001b[0m in \u001b[0;36mcopyfileobj\u001b[0;34m(fsrc, fdst, length)\u001b[0m\n\u001b[1;32m    203\u001b[0m         \u001b[0;32mif\u001b[0m \u001b[0;32mnot\u001b[0m \u001b[0mbuf\u001b[0m\u001b[0;34m:\u001b[0m\u001b[0;34m\u001b[0m\u001b[0;34m\u001b[0m\u001b[0m\n\u001b[1;32m    204\u001b[0m             \u001b[0;32mbreak\u001b[0m\u001b[0;34m\u001b[0m\u001b[0;34m\u001b[0m\u001b[0m\n\u001b[0;32m--> 205\u001b[0;31m         \u001b[0mfdst_write\u001b[0m\u001b[0;34m(\u001b[0m\u001b[0mbuf\u001b[0m\u001b[0;34m)\u001b[0m\u001b[0;34m\u001b[0m\u001b[0;34m\u001b[0m\u001b[0m\n\u001b[0m\u001b[1;32m    206\u001b[0m \u001b[0;34m\u001b[0m\u001b[0m\n\u001b[1;32m    207\u001b[0m \u001b[0;32mdef\u001b[0m \u001b[0m_samefile\u001b[0m\u001b[0;34m(\u001b[0m\u001b[0msrc\u001b[0m\u001b[0;34m,\u001b[0m \u001b[0mdst\u001b[0m\u001b[0;34m)\u001b[0m\u001b[0;34m:\u001b[0m\u001b[0;34m\u001b[0m\u001b[0;34m\u001b[0m\u001b[0m\n",
      "\u001b[0;32m~/anaconda3/envs/tf-gpu/lib/python3.8/zipfile.py\u001b[0m in \u001b[0;36mwrite\u001b[0;34m(self, data)\u001b[0m\n\u001b[1;32m   1135\u001b[0m         \u001b[0mnbytes\u001b[0m \u001b[0;34m=\u001b[0m \u001b[0mlen\u001b[0m\u001b[0;34m(\u001b[0m\u001b[0mdata\u001b[0m\u001b[0;34m)\u001b[0m\u001b[0;34m\u001b[0m\u001b[0;34m\u001b[0m\u001b[0m\n\u001b[1;32m   1136\u001b[0m         \u001b[0mself\u001b[0m\u001b[0;34m.\u001b[0m\u001b[0m_file_size\u001b[0m \u001b[0;34m+=\u001b[0m \u001b[0mnbytes\u001b[0m\u001b[0;34m\u001b[0m\u001b[0;34m\u001b[0m\u001b[0m\n\u001b[0;32m-> 1137\u001b[0;31m         \u001b[0mself\u001b[0m\u001b[0;34m.\u001b[0m\u001b[0m_crc\u001b[0m \u001b[0;34m=\u001b[0m \u001b[0mcrc32\u001b[0m\u001b[0;34m(\u001b[0m\u001b[0mdata\u001b[0m\u001b[0;34m,\u001b[0m \u001b[0mself\u001b[0m\u001b[0;34m.\u001b[0m\u001b[0m_crc\u001b[0m\u001b[0;34m)\u001b[0m\u001b[0;34m\u001b[0m\u001b[0;34m\u001b[0m\u001b[0m\n\u001b[0m\u001b[1;32m   1138\u001b[0m         \u001b[0;32mif\u001b[0m \u001b[0mself\u001b[0m\u001b[0;34m.\u001b[0m\u001b[0m_compressor\u001b[0m\u001b[0;34m:\u001b[0m\u001b[0;34m\u001b[0m\u001b[0;34m\u001b[0m\u001b[0m\n\u001b[1;32m   1139\u001b[0m             \u001b[0mdata\u001b[0m \u001b[0;34m=\u001b[0m \u001b[0mself\u001b[0m\u001b[0;34m.\u001b[0m\u001b[0m_compressor\u001b[0m\u001b[0;34m.\u001b[0m\u001b[0mcompress\u001b[0m\u001b[0;34m(\u001b[0m\u001b[0mdata\u001b[0m\u001b[0;34m)\u001b[0m\u001b[0;34m\u001b[0m\u001b[0;34m\u001b[0m\u001b[0m\n",
      "\u001b[0;31mKeyboardInterrupt\u001b[0m: "
     ]
    }
   ],
   "source": [
    "\n",
    "data_root = '/home/anpo/Desktop/DataForDBtest/pneumothorax_20201117_1' # your data deposit location\n",
    "\n",
    "url = 'http://10.30.223.96' # xnat ip\n",
    "usr = 'xnatQ'# your password\n",
    "password = 'cgmh1028'# your password\n",
    "# create server connection object\n",
    "session = xnat_uploader.connect_xnat(url, usr, password)\n",
    "\n",
    "# create the project name at xnat first\n",
    "project_name = 'test_pj4' \n",
    "unuploded_subjects = [] \n",
    "\n",
    "# already uploaded subject list\n",
    "online_list = []\n",
    "other_list = []\n",
    "for subject_name in session.projects[project_name].subjects.values():\n",
    "    online_list.append(subject_name.label)\n",
    "\n",
    "for subdir_name in glob.glob(os.path.join(data_root, '*', '')):\n",
    "    patient_ID = subdir_name.split('/')[-2]\n",
    "    image_No = xnat_uploader.get_DICOM_info(data_root, patient_ID)\n",
    "    print(image_No)\n",
    "    # if unable to extract subject id info\n",
    "    if not image_No:\n",
    "        unuploded_subjects.append(patient_ID)\n",
    "        continue\n",
    "    \n",
    "    # if match already uploaded subject, pass\n",
    "    if patient_ID.replace('.','_') in online_list: \n",
    "       # print('already_there')\n",
    "        continue\n",
    "        \n",
    "    try:        \n",
    "        experiment = xnat_uploader.img_uploader(data_root, session, project_name, patient_ID, image_No)\n",
    "        print(patient_ID)\n",
    "    except Exception:\n",
    "        other_list.append(patient_ID)\n",
    "        continue\n",
    "        \n",
    "session.disconnect()\n",
    "print('done')\n"
   ]
  },
  {
   "cell_type": "code",
   "execution_count": null,
   "metadata": {},
   "outputs": [],
   "source": [
    "other_list"
   ]
  },
  {
   "cell_type": "code",
   "execution_count": null,
   "metadata": {},
   "outputs": [],
   "source": [
    "unuploded_subjects"
   ]
  },
  {
   "cell_type": "code",
   "execution_count": null,
   "metadata": {},
   "outputs": [],
   "source": [
    "patient_ID"
   ]
  },
  {
   "cell_type": "code",
   "execution_count": null,
   "metadata": {},
   "outputs": [],
   "source": [
    "image_No = get_DICOM_info(data_root, patient_ID)"
   ]
  },
  {
   "cell_type": "code",
   "execution_count": null,
   "metadata": {},
   "outputs": [],
   "source": [
    "patient_ID = '1.2.528.1.1001.200.10.4201.11781.257665444.20201117070644906'"
   ]
  },
  {
   "cell_type": "code",
   "execution_count": null,
   "metadata": {
    "scrolled": true
   },
   "outputs": [],
   "source": [
    "patient_ID in online_list"
   ]
  }
 ],
 "metadata": {
  "kernelspec": {
   "display_name": "Python 3",
   "language": "python",
   "name": "python3"
  },
  "language_info": {
   "codemirror_mode": {
    "name": "ipython",
    "version": 3
   },
   "file_extension": ".py",
   "mimetype": "text/x-python",
   "name": "python",
   "nbconvert_exporter": "python",
   "pygments_lexer": "ipython3",
   "version": "3.8.5"
  }
 },
 "nbformat": 4,
 "nbformat_minor": 4
}
